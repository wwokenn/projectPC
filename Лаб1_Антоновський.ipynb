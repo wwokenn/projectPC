{
 "cells": [
  {
   "cell_type": "markdown",
   "source": [
    "                                                        Лабораторна №1\n",
    "1) Дайте відповідь на наступні запитання:\n",
    "\n",
    "· Для чого використовується функція print()?\n",
    "    Для виводу данних в консоль. Може виводити не тільки значення змінних, але і значення будь-яких виразів.\n",
    "· Що станеться, якщо вивести print(\"Hello World!\") без лапок?\n",
    "    "
   ],
   "metadata": {
    "collapsed": false
   },
   "id": "4c94b0d359bbde64"
  },
  {
   "cell_type": "code",
   "execution_count": 1,
   "outputs": [
    {
     "ename": "SyntaxError",
     "evalue": "invalid syntax. Perhaps you forgot a comma? (3432599547.py, line 1)",
     "output_type": "error",
     "traceback": [
      "\u001B[1;36m  Cell \u001B[1;32mIn[1], line 1\u001B[1;36m\u001B[0m\n\u001B[1;33m    print(Hello World!)\u001B[0m\n\u001B[1;37m          ^\u001B[0m\n\u001B[1;31mSyntaxError\u001B[0m\u001B[1;31m:\u001B[0m invalid syntax. Perhaps you forgot a comma?\n"
     ]
    }
   ],
   "source": [
    "print(Hello World!)"
   ],
   "metadata": {
    "collapsed": false,
    "ExecuteTime": {
     "end_time": "2023-09-26T16:47:13.730936100Z",
     "start_time": "2023-09-26T16:47:13.716492900Z"
    }
   },
   "id": "cbe0f99ceb7cf3d"
  },
  {
   "cell_type": "markdown",
   "source": [
    "· Що станеться, якщо замінити подвійні лапки на одинарні?"
   ],
   "metadata": {
    "collapsed": false
   },
   "id": "6dbe2d31cc2106e3"
  },
  {
   "cell_type": "code",
   "execution_count": 2,
   "outputs": [
    {
     "name": "stdout",
     "output_type": "stream",
     "text": [
      "Hello World!\n"
     ]
    }
   ],
   "source": [
    "print('Hello World!')"
   ],
   "metadata": {
    "collapsed": false,
    "ExecuteTime": {
     "end_time": "2023-09-26T16:52:03.694736100Z",
     "start_time": "2023-09-26T16:52:03.684045700Z"
    }
   },
   "id": "c2addd35ac72035b"
  },
  {
   "cell_type": "markdown",
   "source": [
    "· Спробуйте вивести на екран наступний текст: Hello \"world\"!"
   ],
   "metadata": {
    "collapsed": false
   },
   "id": "50b3db7641b592f4"
  },
  {
   "cell_type": "code",
   "execution_count": 3,
   "outputs": [
    {
     "ename": "SyntaxError",
     "evalue": "invalid syntax (2682208976.py, line 1)",
     "output_type": "error",
     "traceback": [
      "\u001B[1;36m  Cell \u001B[1;32mIn[3], line 1\u001B[1;36m\u001B[0m\n\u001B[1;33m    print(Hello \"world\"!)\u001B[0m\n\u001B[1;37m                ^\u001B[0m\n\u001B[1;31mSyntaxError\u001B[0m\u001B[1;31m:\u001B[0m invalid syntax\n"
     ]
    }
   ],
   "source": [
    "print(Hello \"world\"!)"
   ],
   "metadata": {
    "collapsed": false,
    "ExecuteTime": {
     "end_time": "2023-09-26T16:53:16.348451400Z",
     "start_time": "2023-09-26T16:53:16.335020600Z"
    }
   },
   "id": "42866bb0c96e1473"
  },
  {
   "cell_type": "markdown",
   "source": [
    "· Спробуйте вивести на екран наступний текст: Hello 'world'!"
   ],
   "metadata": {
    "collapsed": false
   },
   "id": "dc24a9562e79885f"
  },
  {
   "cell_type": "code",
   "execution_count": 4,
   "outputs": [
    {
     "ename": "SyntaxError",
     "evalue": "invalid syntax (3304414653.py, line 1)",
     "output_type": "error",
     "traceback": [
      "\u001B[1;36m  Cell \u001B[1;32mIn[4], line 1\u001B[1;36m\u001B[0m\n\u001B[1;33m    print(Hello 'world'!)\u001B[0m\n\u001B[1;37m                ^\u001B[0m\n\u001B[1;31mSyntaxError\u001B[0m\u001B[1;31m:\u001B[0m invalid syntax\n"
     ]
    }
   ],
   "source": [
    "print(Hello 'world'!)"
   ],
   "metadata": {
    "collapsed": false,
    "ExecuteTime": {
     "end_time": "2023-09-26T16:53:52.490079800Z",
     "start_time": "2023-09-26T16:53:52.478047300Z"
    }
   },
   "id": "5356baec2bd77205"
  },
  {
   "cell_type": "markdown",
   "source": [
    "2) З'ясуйте, як працює функція input().\n",
    "    Функція input () отримує від користувача рядок тексту."
   ],
   "metadata": {
    "collapsed": false
   },
   "id": "2c8d6de119e7d37a"
  },
  {
   "cell_type": "markdown",
   "source": [
    "3) Подивіться на текст нижче. Подумайте, як можна використати функції виводу та вводу в цьому контексті. Реалізуйте це.\n",
    "\n",
    "Ой, у лузі ... нахилилася. Зажурилась чомусь наша славна Україна. Та ми тую червону калину піднімемо! І ми ... нашу славну Україну піднімемо, гей-гей!\n",
    "\n",
    "4) Додайте кілька коментарів до коду з вправи 3. Вони повинні пояснювати, для чого використовуються змінні. Нагадую, що коментарі повинні бути короткими та інформативними.\n",
    "5) Замініть усі лапки у вашому коді на екрановані."
   ],
   "metadata": {
    "collapsed": false
   },
   "id": "5af56e6163220d43"
  },
  {
   "cell_type": "code",
   "execution_count": 7,
   "outputs": [
    {
     "name": "stdout",
     "output_type": "stream",
     "text": [
      "Ой, у лузі ... нахилилася. Зажурилась чомусь наша велика Україна. Та ми тую червону калину піднімемо! І ми ... нашу славну Україну піднімемо, гей-гей!\n"
     ]
    }
   ],
   "source": [
    "# Функція для заміни підстроки у рядку\n",
    "def change_word(row, word_for_change, new_word):\n",
    "    return row.replace(word_for_change, new_word)\n",
    "\n",
    "# Запит від користувача\n",
    "input_row = input(\"Введіть рядок: \")\n",
    "\n",
    "# Заміна \"славна\" на \"велика\" у вхідному рядку\n",
    "result  = change_word(input_row, \"славна\", \"велика\")\n",
    "\n",
    "# Вивід зміненого рядку\n",
    "print(result)"
   ],
   "metadata": {
    "collapsed": false,
    "ExecuteTime": {
     "end_time": "2023-09-26T17:08:56.780926300Z",
     "start_time": "2023-09-26T17:08:54.575233900Z"
    }
   },
   "id": "762c92d098455ada"
  },
  {
   "cell_type": "markdown",
   "source": [
    "6) Зробіть вивід цього тексту у вигляді сходів."
   ],
   "metadata": {
    "collapsed": false
   },
   "id": "a1c60be37e7dad4a"
  },
  {
   "cell_type": "code",
   "execution_count": 26,
   "outputs": [
    {
     "name": "stdout",
     "output_type": "stream",
     "text": [
      "Ой,\n",
      " у\n",
      "  лузі\n",
      "   ...\n",
      "    нахилилася.\n",
      "     Зажурилась\n",
      "      чомусь\n",
      "       наша\n",
      "        велика\n",
      "         Україна.\n",
      "          Та\n",
      "           ми\n",
      "            тую\n",
      "             червону\n",
      "              калину\n",
      "               піднімемо!\n",
      "                І\n",
      "                 ми\n",
      "                  ...\n",
      "                   нашу\n",
      "                    велику\n",
      "                     Україну\n",
      "                      піднімемо,\n",
      "                       гей-гей!\n"
     ]
    }
   ],
   "source": [
    "text = \"Ой, у лузі ... нахилилася. Зажурилась чомусь наша велика Україна. Та ми тую червону калину піднімемо! І ми ... нашу велику Україну піднімемо, гей-гей!\"\n",
    "\n",
    "rows = text.split()  # Розділити текст на слова\n",
    "count_spaces = 0  # Змінна для визначення кількості пробілів перед словом\n",
    "\n",
    "for word in rows:\n",
    "    indent = \" \" * count_spaces  # Генерувати відступи перед словом\n",
    "    print(indent + word)  # Виводити слово з відступом\n",
    "    count_spaces += 1  # Збільшувати кількість пробілів після кожного слова\n"
   ],
   "metadata": {
    "collapsed": false,
    "ExecuteTime": {
     "end_time": "2023-09-26T17:45:08.915862400Z",
     "start_time": "2023-09-26T17:45:08.903191500Z"
    }
   },
   "id": "2b39cbe735bb4f99"
  },
  {
   "cell_type": "markdown",
   "source": [
    "7) Виконайте наступні завдання:\n",
    "\n",
    "· Напишіть по 1 прикладу для кожного арифметичного знаку та степеня числа. Для виведення результатів на екран використовуйте функцію print(str(...)).\n",
    "\n",
    "· Виконати певну арифметичну дію 5 різними способами, результат якої буде дорівнювати 100. Знаки не повинні повторюватись.\n",
    "\n",
    "· Попросіть користувача ввести два числа і додати їх."
   ],
   "metadata": {
    "collapsed": false
   },
   "id": "801b0e2bd2f5a126"
  },
  {
   "cell_type": "code",
   "execution_count": 53,
   "outputs": [
    {
     "name": "stdout",
     "output_type": "stream",
     "text": [
      "7\n",
      "3\n",
      "28\n",
      "5.0\n",
      "2\n",
      "32\n",
      "100\n",
      "100\n",
      "100\n",
      "100.0\n",
      "100\n",
      " 5.0 + 5.0 = 10.0\n"
     ]
    }
   ],
   "source": [
    "# Приклади для арифметичних знаків та ступеня числа:\n",
    "print(str(4 + 3)) # Додавання\n",
    "print(str(5 - 2)) # Віднімання\n",
    "print(str(7 * 4)) # Множення\n",
    "print(str(15 / 3)) # Ділення\n",
    "print(str(17 % 3)) # Ділення залишком\n",
    "print(str(2 ** 5)) # Піднесення до ступеня\n",
    "\n",
    "# Приклади арифметичних дій, які дають результат 100:\n",
    "print(str(50 + 50)) \n",
    "print(str(150 - 50))\n",
    "print(str(25 * 4))\n",
    "print(str(200 / 2))\n",
    "print(str(10 ** 2))\n",
    "\n",
    "# Задаю 2 числа та отримую їхню суму:\n",
    "num1 = float(input(\"Введіть перше число: \"))\n",
    "num2 = float(input(\"Введіть друге число: \"))\n",
    "sum = num1 + num2\n",
    "print(\"\", num1, \"+\" \"\", num2, \"= \"  + str(sum))"
   ],
   "metadata": {
    "collapsed": false,
    "ExecuteTime": {
     "end_time": "2023-09-26T18:13:43.046472600Z",
     "start_time": "2023-09-26T18:13:41.242189Z"
    }
   },
   "id": "a0013ca176de90b3"
  },
  {
   "cell_type": "markdown",
   "source": [
    "8) Розробіть код, який виводить на екран наступний текст. Збережіть його форматування:\n",
    "\n",
    "But we will raise that red viburnum! And we will cheer our glorious Ukraine up, “hey-hey”! Marching forward, our fellow volunteers, into a bloody fray, To free our brother Ukrainians from Moscow shackles. And we will liberate our ьrother Ukrainians, And we will cheer our glorious Ukraine up, hey-hey! When the stormy wind blows forth from the wide steppes, Then it will glorify the Sich riflemeн throughout Ukraine.\n",
    "\n",
    "And we will preserve riflemen’s glory And we will cheer our glorious Ukraine up, hey-hey!\n",
    "9) Порівняйте результат виконання з оригінальним текстом. Перевірте всі пробіли, лапки та мову виконання (наявність хоча б одного символу українською мовою). Будьте уважні! Особливо уважно слідкуйте за синтаксисом."
   ],
   "metadata": {
    "collapsed": false
   },
   "id": "7f13074257c75ff6"
  },
  {
   "cell_type": "code",
   "execution_count": 57,
   "outputs": [
    {
     "name": "stdout",
     "output_type": "stream",
     "text": [
      " \n",
      "   But we will raise that red viburnum! And we will cheer our glorious Ukraine up, “hey-hey”! \n",
      "Marching forward, our fellow volunteers, into a bloody fray, \n",
      "   To free our brother Ukrainians from Moscow shackles. \n",
      "And we will liberate our ьrother Ukrainians, \n",
      "And we will cheer our glorious Ukraine up, hey-hey! \n",
      "When the stormy wind blows forth from the wide steppes, \n",
      "Then it will glorify the Sich riflemeн throughout Ukraine.\n",
      "    And we will preserve riflemen’s glory \n",
      "And we will cheer our glorious Ukraine up, hey-hey!\n"
     ]
    }
   ],
   "source": [
    "# \"\"\" - дає змогу виводити текст збереженим форматуванням, включаючи роздільники нового рядка та індентацію, як у вихідному тексті.\n",
    "text = \"\"\" \n",
    "   But we will raise that red viburnum! And we will cheer our glorious Ukraine up, “hey-hey”! \n",
    "Marching forward, our fellow volunteers, into a bloody fray, \n",
    "   To free our brother Ukrainians from Moscow shackles. \n",
    "And we will liberate our ьrother Ukrainians, \n",
    "And we will cheer our glorious Ukraine up, hey-hey! \n",
    "When the stormy wind blows forth from the wide steppes, \n",
    "Then it will glorify the Sich riflemeн throughout Ukraine.\n",
    "    And we will preserve riflemen’s glory \n",
    "And we will cheer our glorious Ukraine up, hey-hey!\n",
    "\"\"\"\n",
    "\n",
    "print(text)\n"
   ],
   "metadata": {
    "collapsed": false,
    "ExecuteTime": {
     "end_time": "2023-09-26T18:17:41.690222100Z",
     "start_time": "2023-09-26T18:17:41.668377300Z"
    }
   },
   "id": "43ec0e5113649a28"
  },
  {
   "cell_type": "markdown",
   "source": [
    "10) Розв'яжіть наступні задачі:\n"
   ],
   "metadata": {
    "collapsed": false
   },
   "id": "346bc5befcd9f156"
  },
  {
   "cell_type": "code",
   "execution_count": 74,
   "outputs": [
    {
     "name": "stdout",
     "output_type": "stream",
     "text": [
      "105 + 384 = 489\n",
      "122 - 21.5 = 100.5\n",
      "5 + 10.0 = 15.0\n",
      "5 * 10 / 2 - 22 * 35 = -87.5\n",
      "25 / 7 = 3.5714285714285716\n",
      "25 // 7 = 3\n",
      "5 + 25 % 7 = 9\n",
      "(2 ** 4) ** 3 + (5 ** 8) =  394721\n",
      "3 ** 2 * math.sqrt(5) = 20.12461179749811\n"
     ]
    }
   ],
   "source": [
    "import math \n",
    "\n",
    "result1 = 105 + 384\n",
    "result2 = 122 - 21.5\n",
    "result3 = 5 + 10.0\n",
    "result4 = (5 * 10) / (2 - 22) * 35\n",
    "result5 = 25 / 7\n",
    "result6 = 25 // 7\n",
    "result7 = 5 + 25 % 7\n",
    "result8 = (2 ** 4) ** 3 + (5 ** 8)\n",
    "result9 = 3 ** 2 * math.sqrt(5)\n",
    "\n",
    "\n",
    "\n",
    "print(\"105 + 384 =\", result1)\n",
    "print(\"122 - 21.5 =\", result2)\n",
    "print(\"5 + 10.0 =\", result3)\n",
    "print(\"5 * 10 / 2 - 22 * 35 =\", result4)\n",
    "print(\"25 / 7 =\", result5)\n",
    "print(\"25 // 7 =\", result6)\n",
    "print(\"5 + 25 % 7 =\", result7)\n",
    "print(\"(2 ** 4) ** 3 + (5 ** 8) = \", result8)\n",
    "print(\"3 ** 2 * math.sqrt(5) =\", result9)"
   ],
   "metadata": {
    "collapsed": false,
    "ExecuteTime": {
     "end_time": "2023-09-26T18:38:28.986338200Z",
     "start_time": "2023-09-26T18:38:28.954893400Z"
    }
   },
   "id": "a7658c5ebe090506"
  },
  {
   "cell_type": "markdown",
   "source": [
    "11) Розрахуйте чистий прибуток працівника, якщо його дохід становить 25 тис. грн. Премії та винагороди: за складність роботи - 3 тис. грн., за досягнення - 10%, премія за виконання індивідуальних завдань - 5 тис. грн., виграш у лотерею - 500 usd. Результат виводити в наступному форматі:\n",
    "\n",
    "Дохід: ...\n",
    "\n",
    "Бонуси та винагороди: ...\n",
    "\n",
    "Податки: ...\n",
    "\n",
    "Чистий прибуток: ..."
   ],
   "metadata": {
    "collapsed": false
   },
   "id": "d9300b58b49fe6d3"
  },
  {
   "cell_type": "code",
   "execution_count": 76,
   "outputs": [
    {
     "name": "stdout",
     "output_type": "stream",
     "text": [
      "Дохід: 25000 грн\n",
      "Бонуси та винагороди: 11000.0 грн\n",
      "Податки: Не враховані\n",
      "Чистий прибуток: 36000.0 грн\n"
     ]
    }
   ],
   "source": [
    "# Вхідні дані\n",
    "income = 25000  # Дохід працівника в гривнях\n",
    "award_work_difficulty = 3000  # Премія за складність роботи в гривнях\n",
    "award_achievement  = 0.10 * income  # Премія за досягнення (10% від доходу)\n",
    "award_oindividual_task  = 5000  # Премія за виконання індивідуальних завдань в гривнях\n",
    "award_lottery = 500  # Виграш у лотерею в гривнях\n",
    "\n",
    "# Обчислення податків (податки в цьому прикладі не враховані, оскільки вони не надані)\n",
    "# Обчислення чистого прибутку\n",
    "net_profit = income  + award_work_difficulty  + award_achievement + award_oindividual_task + award_lottery\n",
    "\n",
    "# Вивід результату\n",
    "print(\"Дохід:\", income, \"грн\")\n",
    "print(\"Бонуси та винагороди:\", award_work_difficulty + award_achievement + award_oindividual_task + award_lottery, \"грн\")\n",
    "print(\"Податки: Не враховані\")\n",
    "print(\"Чистий прибуток:\", net_profit, \"грн\")"
   ],
   "metadata": {
    "collapsed": false,
    "ExecuteTime": {
     "end_time": "2023-09-26T18:48:49.279698900Z",
     "start_time": "2023-09-26T18:48:49.256566900Z"
    }
   },
   "id": "dc253df2d6867a71"
  },
  {
   "cell_type": "markdown",
   "source": [
    "12) Запропонуйте, як можна покращити попереднє завдання"
   ],
   "metadata": {
    "collapsed": false
   },
   "id": "61d5727ad81f9ee5"
  },
  {
   "cell_type": "code",
   "execution_count": 78,
   "outputs": [
    {
     "name": "stdout",
     "output_type": "stream",
     "text": [
      "Дохід: 25000 грн\n",
      "Бонуси та винагороди: 11000.0 грн\n",
      "Податок на прибуток: 6480.0 грн\n",
      "Чистий прибуток: 36000.0 грн\n"
     ]
    }
   ],
   "source": [
    "# Вхідні дані\n",
    "income = 25000  # Дохід працівника в гривнях\n",
    "award_work_difficulty = 3000  # Премія за складність роботи в гривнях\n",
    "award_achievement  = 0.10 * income  # Премія за досягнення (10% від доходу)\n",
    "award_oindividual_task  = 5000  # Премія за виконання індивідуальних завдань в гривнях\n",
    "award_lottery = 500  # Виграш у лотерею в гривнях\n",
    "\n",
    "# Обчислення податків \n",
    "tax_income = 0.18 * net_profit\n",
    "\n",
    "# Обчислення чистого прибутку\n",
    "net_profit = income  + award_work_difficulty  + award_achievement + award_oindividual_task + award_lottery\n",
    "\n",
    "# Вивід результату\n",
    "print(\"Дохід:\", income, \"грн\")\n",
    "print(\"Бонуси та винагороди:\", award_work_difficulty + award_achievement + award_oindividual_task + award_lottery, \"грн\")\n",
    "print(\"Податок на прибуток:\", tax_income, \"грн\")\n",
    "print(\"Чистий прибуток:\", net_profit, \"грн\")"
   ],
   "metadata": {
    "collapsed": false,
    "ExecuteTime": {
     "end_time": "2023-09-26T18:54:14.340529700Z",
     "start_time": "2023-09-26T18:54:14.328532800Z"
    }
   },
   "id": "4c84e5169e97966f"
  }
 ],
 "metadata": {
  "kernelspec": {
   "display_name": "Python 3",
   "language": "python",
   "name": "python3"
  },
  "language_info": {
   "codemirror_mode": {
    "name": "ipython",
    "version": 2
   },
   "file_extension": ".py",
   "mimetype": "text/x-python",
   "name": "python",
   "nbconvert_exporter": "python",
   "pygments_lexer": "ipython2",
   "version": "2.7.6"
  }
 },
 "nbformat": 4,
 "nbformat_minor": 5
}

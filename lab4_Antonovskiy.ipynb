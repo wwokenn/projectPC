{
 "cells": [
  {
   "cell_type": "markdown",
   "source": [
    "                          Лабораторная робота №4\n",
    "1. Створіть порожній список.\n",
    "2. Заповніть його 10 випадковими числам."
   ],
   "metadata": {
    "collapsed": false
   },
   "id": "1ffe5f0d4a18de6d"
  },
  {
   "cell_type": "code",
   "execution_count": 2,
   "outputs": [],
   "source": [
    "list = [3, 5 , 6, 2, 11, 9, 4, 14, 20, 15]"
   ],
   "metadata": {
    "collapsed": false,
    "ExecuteTime": {
     "end_time": "2023-10-17T12:53:58.429487500Z",
     "start_time": "2023-10-17T12:53:58.418324100Z"
    }
   },
   "id": "28ded0aa88ee3a6e"
  },
  {
   "cell_type": "markdown",
   "source": [
    "3. Видаліть кожен 3-й елемент\n",
    "4. Обчисліть суму всіх елементів списку."
   ],
   "metadata": {
    "collapsed": false
   },
   "id": "ab66d9db1561a784"
  },
  {
   "cell_type": "code",
   "execution_count": 8,
   "outputs": [
    {
     "name": "stdout",
     "output_type": "stream",
     "text": [
      "Список без кожного третого числа: [3, 5, 2, 11, 4, 14, 15]\n",
      "Сума чисел нового списку: 54\n"
     ]
    }
   ],
   "source": [
    "list = [3, 5 , 6, 2, 11, 9, 4, 14, 20, 15]\n",
    "new_list = [] # Створення нового порожнього списку для зберігання результату\n",
    "\n",
    "# Пробіг по елементах у початковому списку та додання коженого третього елемента до нового списку\n",
    "for index, element in enumerate(list, 1):\n",
    "    if index % 3 != 0: # Перевірка чи індекс не кратним 3, тобно не є 3-ім в списку\n",
    "        new_list.append(element)\n",
    "\n",
    "sum_new_list = sum(new_list) # Обчислює суму елементів new_list\n",
    "\n",
    "# Вивід результату new_list\n",
    "print(\"Список без кожного третого числа:\", new_list)\n",
    "print(\"Сума чисел нового списку:\", sum_new_list)"
   ],
   "metadata": {
    "collapsed": false,
    "ExecuteTime": {
     "end_time": "2023-10-17T13:12:20.018828900Z",
     "start_time": "2023-10-17T13:12:20.013766Z"
    }
   },
   "id": "c8160dd0c9f1e4bc"
  },
  {
   "cell_type": "markdown",
   "source": [
    "5. Створіть словник з десяти значень, де ключами є числа, а значеннями - імена.\n",
    "6. Замініть значення з парними ключами літералом \"Парне значення\"."
   ],
   "metadata": {
    "collapsed": false
   },
   "id": "e95629cfdd9c19da"
  },
  {
   "cell_type": "code",
   "execution_count": 12,
   "outputs": [
    {
     "name": "stdout",
     "output_type": "stream",
     "text": [
      "1: Андрій\n",
      "2: Парне значення\n",
      "3: Василь\n",
      "4: Парне значення\n",
      "5: Дарина\n",
      "6: Парне значення\n",
      "7: Зінаїда\n",
      "8: Парне значення\n",
      "9: Катерина\n",
      "10: Парне значення\n"
     ]
    }
   ],
   "source": [
    "dict = {\n",
    "    1: 'Андрій',\n",
    "    2: 'Богдан',\n",
    "    3: 'Василь',\n",
    "    4: 'Галина',\n",
    "    5: 'Дарина',\n",
    "    6: 'Євгенія',\n",
    "    7: 'Зінаїда',\n",
    "    8: 'Іван',\n",
    "    9: 'Катерина',\n",
    "    10: 'Леся'\n",
    "}\n",
    "\n",
    "# Заміна значення з парними ключами літералом \"Парне значення\"\n",
    "for key in dict:\n",
    "    if key % 2 == 0:\n",
    "        dict[key] = \"Парне значення\"\n",
    "\n",
    "# Вивід результату після заміни для паних ключів        \n",
    "for key, value in dict.items():\n",
    "    print(f\"{key}: {value}\")"
   ],
   "metadata": {
    "collapsed": false,
    "ExecuteTime": {
     "end_time": "2023-10-17T13:33:12.185818700Z",
     "start_time": "2023-10-17T13:33:12.180483Z"
    }
   },
   "id": "2978b6a2339c9658"
  },
  {
   "cell_type": "markdown",
   "source": [
    "7. Створіть матрицю (тобто двовимірний список), де значення кожного елемента буде складатися з об'єднаних індексів рядків і стовпців"
   ],
   "metadata": {
    "collapsed": false
   },
   "id": "cf45edb4cc21e0e9"
  },
  {
   "cell_type": "code",
   "execution_count": 18,
   "outputs": [
    {
     "name": "stdout",
     "output_type": "stream",
     "text": [
      "[(0, 0), (0, 1), (0, 2), (0, 3)]\n",
      "[(1, 0), (1, 1), (1, 2), (1, 3)]\n",
      "[(2, 0), (2, 1), (2, 2), (2, 3)]\n"
     ]
    }
   ],
   "source": [
    "# Розмірність матриці\n",
    "rows = 3\n",
    "columns = 4\n",
    "\n",
    "# Ініціалізація матриці зі значеннями (індекси рядків та стовпців)\n",
    "matrix = [[(i, j) for j in range(columns)] for i in range(rows)]\n",
    "\n",
    "# Вивід нашої матриці\n",
    "for row in matrix:\n",
    "    print(row)"
   ],
   "metadata": {
    "collapsed": false,
    "ExecuteTime": {
     "end_time": "2023-10-17T14:10:56.080724900Z",
     "start_time": "2023-10-17T14:10:56.077064800Z"
    }
   },
   "id": "e6cfda4985c44fc2"
  },
  {
   "cell_type": "markdown",
   "source": [
    "8. Створити набір з 6 різних значень (за допомогою списку)."
   ],
   "metadata": {
    "collapsed": false
   },
   "id": "703b5165f26d2dad"
  },
  {
   "cell_type": "code",
   "execution_count": 22,
   "outputs": [
    {
     "name": "stdout",
     "output_type": "stream",
     "text": [
      "[9, 3, 'привіт!', 3.14, True, [4, 5, 6]]\n"
     ]
    }
   ],
   "source": [
    "list = [9, 3, 'привіт!', 3.14, True, [4, 5, 6]]\n",
    "print(list)"
   ],
   "metadata": {
    "collapsed": false,
    "ExecuteTime": {
     "end_time": "2023-10-17T14:19:29.448828500Z",
     "start_time": "2023-10-17T14:19:29.439378900Z"
    }
   },
   "id": "9198253f5a44f6d5"
  },
  {
   "cell_type": "markdown",
   "source": [
    "9. Які методи та функції, які ви вже знаєте, можна використовувати для роботи з множинами? Застосуйте їх"
   ],
   "metadata": {
    "collapsed": false
   },
   "id": "2b06de2993674f7d"
  },
  {
   "cell_type": "code",
   "execution_count": 31,
   "outputs": [
    {
     "name": "stdout",
     "output_type": "stream",
     "text": [
      "Множина 1 після додавання елементу: {1, 2, 3, 4, 5, 6}\n",
      "Множина 2 після видалення елементу: {4, 5, 6, 7}\n",
      "2 належить до множини 1\n",
      "Об'єднана множина: {1, 2, 3, 4, 5, 6, 7}\n",
      "Різниця множин 1 та 2: {1, 2, 3}\n"
     ]
    }
   ],
   "source": [
    "# Створення двох множин\n",
    "set1 = {1, 2, 3, 4, 5}\n",
    "set2 = {3, 4, 5, 6, 7}\n",
    "\n",
    "#1 Додавання елементу до множини\n",
    "set1.add(6)\n",
    "print(\"Множина 1 після додавання елементу:\", set1)\n",
    "\n",
    "#2 Видалення елементу із множини\n",
    "set2.discard(3)\n",
    "print(\"Множина 2 після видалення елементу:\", set2)\n",
    "\n",
    "#3 Перевірка членства\n",
    "element_to_check = 2\n",
    "if element_to_check in set1:\n",
    "    print(f\"{element_to_check} належить до множини 1\")\n",
    "else:\n",
    "    print(f\"{element_to_check} не належить до множини 1\")\n",
    "\n",
    "#4 Об'єднання множин\n",
    "union_set = set1.union(set2)\n",
    "print(\"Об'єднана множина:\", union_set)\n",
    "\n",
    "#5 Різниця множин\n",
    "difference_set = set1.difference(set2)\n",
    "print(\"Різниця множин 1 та 2:\", difference_set)"
   ],
   "metadata": {
    "collapsed": false,
    "ExecuteTime": {
     "end_time": "2023-10-17T14:30:05.669853100Z",
     "start_time": "2023-10-17T14:30:05.665520400Z"
    }
   },
   "id": "6b5f619ac23c204"
  },
  {
   "cell_type": "markdown",
   "source": [
    "10. Що буде результатом виконання наступного коду? І чому?"
   ],
   "metadata": {
    "collapsed": false
   },
   "id": "8cc1af405d330c9c"
  },
  {
   "cell_type": "code",
   "execution_count": 32,
   "outputs": [
    {
     "name": "stdout",
     "output_type": "stream",
     "text": [
      "{'p', 'i', 's', 'M'}\n"
     ]
    }
   ],
   "source": [
    "a = set('Mississippi')\n",
    "print(a)"
   ],
   "metadata": {
    "collapsed": false,
    "ExecuteTime": {
     "end_time": "2023-10-17T14:34:41.293740200Z",
     "start_time": "2023-10-17T14:34:41.281033700Z"
    }
   },
   "id": "26543478684ed9bd"
  },
  {
   "cell_type": "markdown",
   "source": [
    "# Відповідь:\n",
    "Оскільки множина містить лише унікальні елементи, дубльовані символи у рядку будуть видалені. У множині a залишилися лише унікальні символи з рядка 'Mississippi', і вони представлені у довільному порядку. Дубльовані букви 'i' і 's' з'являються лише один раз у множині, оскільки множина не допускає повторень."
   ],
   "metadata": {
    "collapsed": false
   },
   "id": "770f684fc6cc8393"
  },
  {
   "cell_type": "markdown",
   "source": [
    "11. Придумайте 2 приклади, які реалізують наступні технічні можливості:\n",
    "    1) конкатенація списків\n",
    "    2) функція len()\n",
    "    3) конструкція if для колекції"
   ],
   "metadata": {
    "collapsed": false
   },
   "id": "e282ac10b99f5053"
  },
  {
   "cell_type": "code",
   "execution_count": 33,
   "outputs": [
    {
     "name": "stdout",
     "output_type": "stream",
     "text": [
      "[1, 2, 3, 4, 5, 6]\n",
      "[1, 2, 3, 4, 5, 6]\n"
     ]
    }
   ],
   "source": [
    "#1 Конкатенація списків:\n",
    "# 1 - за допомогою оператора \"+\"\n",
    "list1 = [1, 2, 3]\n",
    "list2 = [4, 5, 6]\n",
    "concatenated_list = list1 + list2\n",
    "print(concatenated_list)  \n",
    "\n",
    "# 2 - за допомогою методу extend()\n",
    "list1 = [1, 2, 3]\n",
    "list2 = [4, 5, 6]\n",
    "list1.extend(list2)\n",
    "print(list1) "
   ],
   "metadata": {
    "collapsed": false,
    "ExecuteTime": {
     "end_time": "2023-10-17T14:54:46.384257400Z",
     "start_time": "2023-10-17T14:54:46.379782400Z"
    }
   },
   "id": "f11a307b61dec8f9"
  },
  {
   "cell_type": "code",
   "execution_count": 34,
   "outputs": [
    {
     "name": "stdout",
     "output_type": "stream",
     "text": [
      "Довжина рядка: 17\n",
      "Довжина списку: 5\n"
     ]
    }
   ],
   "source": [
    "# Функція len():\n",
    "# 1 - для рядку\n",
    "text = \"Це приклад рядка.\"\n",
    "length = len(text)\n",
    "print(f\"Довжина рядка: {length}\")  \n",
    "\n",
    "# 2 - для списку\n",
    "my_list = [1, 2, 3, 4, 5]\n",
    "length = len(my_list)\n",
    "print(f\"Довжина списку: {length}\") "
   ],
   "metadata": {
    "collapsed": false,
    "ExecuteTime": {
     "end_time": "2023-10-17T14:55:44.965481200Z",
     "start_time": "2023-10-17T14:55:44.959587800Z"
    }
   },
   "id": "1b09ab68ab700a7e"
  },
  {
   "cell_type": "code",
   "execution_count": 1,
   "outputs": [
    {
     "name": "stdout",
     "output_type": "stream",
     "text": [
      "3 знайдено у списку.\n",
      "Ключ 'd' не знайдено у словнику.\n"
     ]
    }
   ],
   "source": [
    "# Конструкція if для колекції:\n",
    "# 1 - перевірка, чи елемент є у списку\n",
    "my_list = [1, 2, 3, 4, 5]\n",
    "element_to_check = 3\n",
    "if element_to_check in my_list:\n",
    "    print(f\"{element_to_check} знайдено у списку.\")\n",
    "else:\n",
    "    print(f\"{element_to_check} не знайдено у списку.\")\n",
    "\n",
    "# 2 - перевірка, чи словник містить ключ\n",
    "my_dict = {'a': 1, 'b': 2, 'c': 3}\n",
    "key_to_check = 'd'\n",
    "if key_to_check in my_dict:\n",
    "    print(f\"Ключ '{key_to_check}' знайдено у словнику.\")\n",
    "else:\n",
    "    print(f\"Ключ '{key_to_check}' не знайдено у словнику.\")\n"
   ],
   "metadata": {
    "collapsed": false,
    "ExecuteTime": {
     "end_time": "2023-10-18T07:33:55.234002300Z",
     "start_time": "2023-10-18T07:33:55.213392400Z"
    }
   },
   "id": "9c23db9ee99b4c1f"
  },
  {
   "cell_type": "markdown",
   "source": [
    "12. Напишіть функцію для обчислення суми елементів одновимірного списку, ініціалізованого випадковими числами з інтервалу [0;20]. Не використовуйте функцію sum або подібні функції."
   ],
   "metadata": {
    "collapsed": false
   },
   "id": "ab809acfd3336904"
  },
  {
   "cell_type": "code",
   "execution_count": 42,
   "outputs": [
    {
     "name": "stdout",
     "output_type": "stream",
     "text": [
      "Додаємо 13, підсумок: 13\n",
      "Додаємо 20, підсумок: 33\n",
      "Додаємо 6, підсумок: 39\n",
      "Додаємо 16, підсумок: 55\n",
      "Додаємо 4, підсумок: 59\n",
      "Додаємо 13, підсумок: 72\n",
      "Додаємо 7, підсумок: 79\n",
      "Додаємо 4, підсумок: 83\n",
      "Додаємо 9, підсумок: 92\n",
      "Додаємо 13, підсумок: 105\n",
      "Сума елементів списку: 105\n"
     ]
    }
   ],
   "source": [
    "import random\n",
    "\n",
    "def calculate_sum_list(size_list):\n",
    "    list = [random.randint(0, 20) for _ in range(size_list)]  # Генерація випадкового списку\n",
    "    sum = 0\n",
    "    for element in list:\n",
    "        sum += element\n",
    "        print(f\"Додаємо {element}, підсумок: {sum}\")\n",
    "    return sum\n",
    "\n",
    "size_list = 10  # Задаємо бажаний розмір списку\n",
    "sum_list = calculate_sum_list(size_list)\n",
    "print(f\"Сума елементів списку: {sum_list}\")"
   ],
   "metadata": {
    "collapsed": false,
    "ExecuteTime": {
     "end_time": "2023-10-17T15:05:18.313216900Z",
     "start_time": "2023-10-17T15:05:18.312709900Z"
    }
   },
   "id": "29bbfbd4ee050b8"
  },
  {
   "cell_type": "markdown",
   "source": [
    "13. Задано список чисел {a_i} i=1,..., n, n>=1. Визначити кількість елементів, які задовольняють умові C <= a_1 <= D. Напишіть функцію, яка отримує список та числа n, C, D на вході і повертає кількість елементів на виході."
   ],
   "metadata": {
    "collapsed": false
   },
   "id": "7ab88e591db91a"
  },
  {
   "cell_type": "code",
   "execution_count": 19,
   "outputs": [
    {
     "name": "stdout",
     "output_type": "stream",
     "text": [
      "Кількість елементів у діапазоні [2, 5]: 4\n"
     ]
    }
   ],
   "source": [
    "# Варіант №1\n",
    "# Задаємо формулу, яка обчислює кількість елементів у діапазоні\n",
    "def count_elements_in_range(list, C, D):\n",
    "    count = 0\n",
    "    for element in list:\n",
    "        if C <= element <= D:\n",
    "            count += 1\n",
    "    return count\n",
    "\n",
    "# Використання нашої функції\n",
    "list = [1, 3, 5, 7, 2, 4, 6]\n",
    "C = 2\n",
    "D = 5\n",
    "result = count_elements_in_range(list, C, D)\n",
    "print(f\"Кількість елементів у діапазоні [{C}, {D}]: {result}\")"
   ],
   "metadata": {
    "collapsed": false,
    "ExecuteTime": {
     "end_time": "2023-10-18T08:00:14.340794500Z",
     "start_time": "2023-10-18T08:00:14.322159800Z"
    }
   },
   "id": "5534d943714c29be"
  },
  {
   "cell_type": "code",
   "execution_count": 20,
   "outputs": [
    {
     "name": "stdout",
     "output_type": "stream",
     "text": [
      "Елементи у діапазоні [2, 5]: [3, 5, 2, 4]\n"
     ]
    }
   ],
   "source": [
    "# Варіант №2\n",
    "# Задаємо формулу, яка обчислює кількість елементів у діапазоні\n",
    "def count_elements_in_range(list, C, D): \n",
    "    elements = []\n",
    "    for element in list:\n",
    "        if C <= element <= D:\n",
    "            \n",
    "            elements.append(element)\n",
    "    return elements\n",
    "\n",
    "# Приклад використання функції\n",
    "list = [1, 3, 5, 7, 2, 4, 6]\n",
    "C = 2\n",
    "D = 5\n",
    "result = count_elements_in_range(list, C, D)\n",
    "print(f\"Елементи у діапазоні [{C}, {D}]: {result}\")"
   ],
   "metadata": {
    "collapsed": false,
    "ExecuteTime": {
     "end_time": "2023-10-18T08:00:15.015057800Z",
     "start_time": "2023-10-18T08:00:15.000692600Z"
    }
   },
   "id": "6bad77db3019ff3f"
  },
  {
   "cell_type": "markdown",
   "source": [
    "14. Задано список чисел {a_i} i=1,..., n, n>=1. Визначіть, чи існують два однакових елементи. Напишіть функцію, яка отримує на вхід кортеж і число n, а на виході повертає наступне значення: True, якщо такі елементи існують; False, якщо ні."
   ],
   "metadata": {
    "collapsed": false
   },
   "id": "d97e6e8f42a177d7"
  },
  {
   "cell_type": "code",
   "execution_count": 29,
   "outputs": [
    {
     "name": "stdout",
     "output_type": "stream",
     "text": [
      "Результат 1: False\n",
      "Результат 2: True\n"
     ]
    }
   ],
   "source": [
    "# Функція перевірки одинакових елементів в кортежі \n",
    "def same_elemets(cortage):\n",
    "    n = len(cortage)  \n",
    "    for i in range(n):  # Перебираємо всі можливі позиції для першого елемента\n",
    "        for j in range(i + 1, n):  # Перебираємо всі позиції для другого елемента, починаючи з наступної після першого\n",
    "            if cortage[i] == cortage[j]:  # Порівнюємо два елементи\n",
    "                return True  \n",
    "    return False  \n",
    "\n",
    "# Приклад використання функції:\n",
    "cortage1 = (1, 2, 3, 4, 5)\n",
    "cortage2 = (1, 2, 3, 4, 4)\n",
    "result1 = same_elemets(cortage1)\n",
    "result2 = same_elemets(cortage2)\n",
    "print(f\"Результат 1: {result1}\")  \n",
    "print(f\"Результат 2: {result2}\")  "
   ],
   "metadata": {
    "collapsed": false,
    "ExecuteTime": {
     "end_time": "2023-10-18T08:21:32.443819500Z",
     "start_time": "2023-10-18T08:21:32.425918500Z"
    }
   },
   "id": "fc2154ce867508fd"
  },
  {
   "cell_type": "markdown",
   "source": [
    "15. Задано список чисел {a_i} i=1,..., n, n>=1. Визначіть, чи існує два послідовні елменти, для яких виконується умова a_i < (a_i+1)."
   ],
   "metadata": {
    "collapsed": false
   },
   "id": "8e894fc673d06ef6"
  },
  {
   "cell_type": "code",
   "execution_count": 35,
   "outputs": [
    {
     "name": "stdout",
     "output_type": "stream",
     "text": [
      "Результат 1: False\n",
      "Результат 2: True\n"
     ]
    }
   ],
   "source": [
    "# Функція знаходження послідовного елемента\n",
    "def consistent_element(list):\n",
    "    n = len(list)\n",
    "    for i in range(n - 1):  # Перебираємо всі елементи до передостаннього\n",
    "        if list[i] >= list[i + 1]:  # Порівнюємо поточний елемент із наступним\n",
    "            return True  \n",
    "    return False  \n",
    "\n",
    "# Приклад використання функції\n",
    "list1 = [1, 2, 3, 4, 5]\n",
    "list2 = [1, 3, 2, 5, 4]\n",
    "result1 = consistent_element(list1)\n",
    "result2 = consistent_element(list2)\n",
    "print(f\"Результат 1: {result1}\")  \n",
    "print(f\"Результат 2: {result2}\")  "
   ],
   "metadata": {
    "collapsed": false,
    "ExecuteTime": {
     "end_time": "2023-10-18T08:32:03.673390900Z",
     "start_time": "2023-10-18T08:32:03.652510500Z"
    }
   },
   "id": "ee297a404807b391"
  }
 ],
 "metadata": {
  "kernelspec": {
   "display_name": "Python 3",
   "language": "python",
   "name": "python3"
  },
  "language_info": {
   "codemirror_mode": {
    "name": "ipython",
    "version": 2
   },
   "file_extension": ".py",
   "mimetype": "text/x-python",
   "name": "python",
   "nbconvert_exporter": "python",
   "pygments_lexer": "ipython2",
   "version": "2.7.6"
  }
 },
 "nbformat": 4,
 "nbformat_minor": 5
}

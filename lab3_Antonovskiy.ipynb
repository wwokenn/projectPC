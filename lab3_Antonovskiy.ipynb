{
 "cells": [
  {
   "cell_type": "markdown",
   "source": [
    "                                        Лабораторна робота №4\n",
    "1. \n",
    "2. Виконайте арифметичні операції з булевими значеннями (1), типові перетворення (2). Зробіть висновок про властивості булевих змінних.\n",
    "    Використовуючи булеві ф-ції ми використовуємо логічні операції: AND, OR та NOT.\n",
    "   Логічне AND:\n",
    "\n",
    "True and True = True\n",
    "True and False = False\n",
    "False and True = False\n",
    "False and False = False\n",
    "    Логічне OR:\n",
    "\n",
    "True or True = True\n",
    "True or False = True\n",
    "False or True = True\n",
    "False or False = False\n",
    "    Логічне NOT:\n",
    "\n",
    "not True = False\n",
    "not False = True "
   ],
   "metadata": {
    "collapsed": false
   },
   "id": "6e7c7cdc4781a3d9"
  },
  {
   "cell_type": "code",
   "execution_count": 3,
   "outputs": [
    {
     "name": "stdout",
     "output_type": "stream",
     "text": [
      "True\n",
      "False\n",
      "False\n",
      "False\n"
     ]
    }
   ],
   "source": [
    "result1 = True and True  # Результат буде True\n",
    "result2 = True and False  # Результат буде False\n",
    "result3 = False and True  # Результат буде False\n",
    "result4 = False and False  # Результат буде False\n",
    "print(result1)\n",
    "print(result2)\n",
    "print(result3)\n",
    "print(result4)"
   ],
   "metadata": {
    "collapsed": false,
    "ExecuteTime": {
     "end_time": "2023-10-05T14:16:16.234132100Z",
     "start_time": "2023-10-05T14:16:16.212703400Z"
    }
   },
   "id": "9e0196fdc5a51438"
  },
  {
   "cell_type": "code",
   "execution_count": 6,
   "outputs": [
    {
     "name": "stdout",
     "output_type": "stream",
     "text": [
      "True\n",
      "True\n",
      "True\n",
      "False\n"
     ]
    }
   ],
   "source": [
    "result1 = True or True  # Результат буде True\n",
    "result2 = True or False  # Результат буде True\n",
    "result3 = False or True  # Результат буде True\n",
    "result4 = False or False  # Результат буде False\n",
    "print(result1)\n",
    "print(result2)\n",
    "print(result3)\n",
    "print(result4)"
   ],
   "metadata": {
    "collapsed": false,
    "ExecuteTime": {
     "end_time": "2023-10-05T14:19:23.630184400Z",
     "start_time": "2023-10-05T14:19:23.617650500Z"
    }
   },
   "id": "63425f236fc3d31e"
  },
  {
   "cell_type": "code",
   "execution_count": 7,
   "outputs": [
    {
     "name": "stdout",
     "output_type": "stream",
     "text": [
      "False\n",
      "True\n"
     ]
    }
   ],
   "source": [
    "result1 = not True  # Результат буде False\n",
    "result2 = not False  # Результат буде True\n",
    "print(result1)\n",
    "print(result2)"
   ],
   "metadata": {
    "collapsed": false,
    "ExecuteTime": {
     "end_time": "2023-10-05T14:19:59.969719700Z",
     "start_time": "2023-10-05T14:19:59.959216100Z"
    }
   },
   "id": "35daf3b8df41ba5e"
  },
  {
   "cell_type": "code",
   "execution_count": 10,
   "outputs": [
    {
     "name": "stdout",
     "output_type": "stream",
     "text": [
      "1\n",
      "0\n",
      "True\n",
      "False\n"
     ]
    }
   ],
   "source": [
    "## Перетворення ббулевого значення в число та значення\n",
    "\n",
    "bool_value = True\n",
    "int_value1 = int(bool_value)  # int_value буде 1\n",
    "print(int_value1)\n",
    "\n",
    "bool_value = False\n",
    "int_value2 = int(bool_value)  # int_value буде 0\n",
    "print(int_value2)\n",
    "\n",
    "int_value = 1\n",
    "bool_value1 = bool(int_value)  # bool_value буде True\n",
    "print(bool_value1)\n",
    "\n",
    "int_value = 0\n",
    "bool_value2 = bool(int_value)  # bool_value буде False\n",
    "print(bool_value2)"
   ],
   "metadata": {
    "collapsed": false,
    "ExecuteTime": {
     "end_time": "2023-10-05T14:23:55.289898400Z",
     "start_time": "2023-10-05T14:23:55.274105300Z"
    }
   },
   "id": "81a3e24be66efdfc"
  },
  {
   "cell_type": "markdown",
   "source": [
    "Отже, маємо висновок: \n",
    " - Булеві змінні приймають значення: True (1) і False (0).\n",
    " - Логічні операції AND та OR працюють на основі виключного \"або\" (exclusive or), тобто вони повертають True, коли один з булевих значень True, і False, коли обидва булеві значення однакові.\n",
    " - Логічна операція НЕ інвертує булеве значення, змінюючи True на False і навпаки.\n",
    " - Перетворення між булевими значеннями і цілими числами відбувається дуже легко: True відповідає 1, а False - 0."
   ],
   "metadata": {
    "collapsed": false
   },
   "id": "46c2bdf931a1cb"
  },
  {
   "cell_type": "markdown",
   "source": [
    " 3. Запропонувати користувачу ввести 2 числа, вивести на екран найбільше з них."
   ],
   "metadata": {
    "collapsed": false
   },
   "id": "bb34e39f90c347e2"
  },
  {
   "cell_type": "code",
   "execution_count": 16,
   "outputs": [
    {
     "name": "stdout",
     "output_type": "stream",
     "text": [
      "Перше число:  3.0\n",
      "Друге число:  4.0\n",
      "Найбільше число: 4.0\n"
     ]
    }
   ],
   "source": [
    "# Запит першого та другого числа та вивід їх на екран \n",
    "num1 = float(input(\"Введіть перше число: \"))\n",
    "num2 = float(input(\"Введіть друге число: \"))\n",
    "print(\"Перше число: \", num1)\n",
    "print(\"Друге число: \", num2)\n",
    "\n",
    "# Порівняня числа та виведення найбільшого числа на екран\n",
    "if num1 > num2:\n",
    "    print(\"Найбільше число:\", num1)\n",
    "elif num2 > num1:\n",
    "    print(\"Найбільше число:\", num2)\n",
    "else:\n",
    "    print(\"Числа рівні.\")"
   ],
   "metadata": {
    "collapsed": false,
    "ExecuteTime": {
     "end_time": "2023-10-05T14:39:51.666447Z",
     "start_time": "2023-10-05T14:39:44.881374300Z"
    }
   },
   "id": "e2e7891b5cf375ee"
  },
  {
   "cell_type": "markdown",
   "source": [
    "4. Модифікуйте попередній код: додайте третє число для порівняння."
   ],
   "metadata": {
    "collapsed": false
   },
   "id": "d0550fe16e149873"
  },
  {
   "cell_type": "code",
   "execution_count": 18,
   "outputs": [
    {
     "name": "stdout",
     "output_type": "stream",
     "text": [
      "Перше число:  2.2\n",
      "Друге число:  3.3\n",
      "Друге число:  4.0\n",
      "Найбільше число: 4.0\n"
     ]
    }
   ],
   "source": [
    "# Запит першого та другого числа та вивід їх на екран \n",
    "num1 = float(input(\"Введіть перше число: \"))\n",
    "num2 = float(input(\"Введіть друге число: \"))\n",
    "num3 = float(input(\"Введіть третє число: \"))\n",
    "print(\"Перше число: \", num1)\n",
    "print(\"Друге число: \", num2)\n",
    "print(\"Друге число: \", num3)\n",
    "\n",
    "# Порівняня трьох числ та виведення найбільшого на екран\n",
    "if num1 > num2 and num1 > num3:\n",
    "    print(\"Найбільше число:\", num1)\n",
    "elif num2 > num1 and num2 > num3:\n",
    "    print(\"Найбільше число:\", num2)\n",
    "else:\n",
    "    print(\"Найбільше число:\", num3)"
   ],
   "metadata": {
    "collapsed": false,
    "ExecuteTime": {
     "end_time": "2023-10-05T14:54:53.864938400Z",
     "start_time": "2023-10-05T14:54:44.650110200Z"
    }
   },
   "id": "3440ca7315a20fdb"
  },
  {
   "cell_type": "markdown",
   "source": [
    "5. Модифікація попереднього коду: піднести найбільше число до 3-го степеня, якщо воно більше 0."
   ],
   "metadata": {
    "collapsed": false
   },
   "id": "fef604dfb2cdc5dc"
  },
  {
   "cell_type": "code",
   "execution_count": 20,
   "outputs": [
    {
     "name": "stdout",
     "output_type": "stream",
     "text": [
      "Перше число:  -4.3\n",
      "Друге число:  -2.1\n",
      "Друге число:  0.0\n",
      "Найбільше число менше або рівне 0\n"
     ]
    }
   ],
   "source": [
    "# Запит першого та другого числа та вивід їх на екран \n",
    "num1 = float(input(\"Введіть перше число: \"))\n",
    "num2 = float(input(\"Введіть друге число: \"))\n",
    "num3 = float(input(\"Введіть третє число: \"))\n",
    "print(\"Перше число: \", num1)\n",
    "print(\"Друге число: \", num2)\n",
    "print(\"Друге число: \", num3)\n",
    "\n",
    "# Порівняня трьох числ та виведення найбільшого на екран\n",
    "if num1 > num2 and num1 > num3:\n",
    "    max_num = num1\n",
    "elif num2 > num1 and num2 > num3:\n",
    "    max_num = num2\n",
    "else:\n",
    "    max_num = num3\n",
    "\n",
    "# Перевіряємо чи число більше 0\n",
    "if max_num > 0:\n",
    "    max_num_cubed = max_num ** 3 # Піднесення до 3 степеня\n",
    "    print(\"Найбільше число піднесене до 3-го ступеня:\", max_num_cubed)\n",
    "else:\n",
    "    print(\"Найбільше число менше або рівне 0\")"
   ],
   "metadata": {
    "collapsed": false,
    "ExecuteTime": {
     "end_time": "2023-10-05T15:03:09.450669400Z",
     "start_time": "2023-10-05T15:02:59.225237900Z"
    }
   },
   "id": "9b7467ebe5912bf9"
  },
  {
   "cell_type": "markdown",
   "source": [
    "6. Скопіюйте наступний код. Поекспериментуйте зі значеннями змінних, щоб зрозуміти, як працюють оператори. У коментарях до кожного виразу напишіть умови, за яких значення виразу буде істинним та хибним: \n",
    "X = ; Y = ; Z = ; M = ;\n",
    "if X and Y and Z:\n",
    "pass\n",
    "if X or Y or Z:\n",
    "pass\n",
    "if X or Y and Z:\n",
    "pass\n",
    "if X or Y and Z or M:\n",
    "pass\n",
    "if X and Y or Z and M:\n",
    "pass\n",
    "if X and (Y or Z and M):\n",
    "pass\n"
   ],
   "metadata": {
    "collapsed": false
   },
   "id": "4eb7f38466e3696c"
  },
  {
   "cell_type": "code",
   "execution_count": 26,
   "outputs": [
    {
     "name": "stdout",
     "output_type": "stream",
     "text": [
      "Вираз 1 хибний.\n",
      "Вираз 2 істинний.\n",
      "Вираз 3 істинний.\n",
      "Вираз 4 істинний.\n",
      "Вираз 5 хибний.\n",
      "Вираз 6 хибний.\n"
     ]
    }
   ],
   "source": [
    "# Задаємо значення змінних X, Y, Z і M\n",
    "X = True\n",
    "Y = False\n",
    "Z = True\n",
    "M = False\n",
    "\n",
    "# №1\n",
    "if X and Y and Z: # Цей вираз буде істинним тільки в тому випадку, коли всі змінні X, Y і Z мають значення True. В даному випадку, вираз є хибним (False), так як Y має значення False.\n",
    "    print(\"Вираз 1 істинний.\")\n",
    "else:\n",
    "    print(\"Вираз 1 хибний.\")\n",
    "\n",
    "# №2\n",
    "if X or Y or Z: # Цей вираз буде істинним, якщо хоча б одна змінна має значення True. У даному випадку, вираз є істинним, оскільки X і Z мають значення True.\n",
    "    print(\"Вираз 2 істинний.\")\n",
    "else:\n",
    "    print(\"Вираз 2 хибний.\")\n",
    "\n",
    "# №3\n",
    "if X or Y and Z: #Цей вираз буде істинним, якщо X має значення True, або якщо Y і Z одночасно мають значення True. У даному випадку, вираз є істинним, так як X має значення True.\n",
    "    print(\"Вираз 3 істинний.\")\n",
    "else:\n",
    "    print(\"Вираз 3 хибний.\")\n",
    "\n",
    "# №4\n",
    "if X or Y and Z or M: # Цей вираз буде істинним, якщо хоча б одна змінна має значення True. У даному випадку, вираз є істинним, оскільки X має значення True.\n",
    "    print(\"Вираз 4 істинний.\")\n",
    "else:\n",
    "    print(\"Вираз 4 хибний.\")\n",
    "\n",
    "# №5\n",
    "if X and Y or Z and M: # Цей вираз буде істинним, якщо X і Y одночасно мають значення True, OR Z AND M одночасно мають значення True. У даному випадку, вираз є хибним, так як Y має значення False.\n",
    "    print(\"Вираз 5 істинний.\")\n",
    "else:\n",
    "    print(\"Вираз 5 хибний.\")\n",
    "\n",
    "# №6\n",
    "if X and (Y or Z and M): # Цей вираз буде істинним, якщо X має значення True, AND OR Y має значення True, OR AND Z, і M одночасно мають значення True. У даному випадку, вираз є істинним, оскільки X має значення True, і (Y or Z and M) також є істинним, оскільки Y має значення False, але (Z and M) є хибним.\n",
    "    print(\"Вираз 6 істинний.\")\n",
    "else:\n",
    "    print(\"Вираз 6 хибний.\")"
   ],
   "metadata": {
    "collapsed": false,
    "ExecuteTime": {
     "end_time": "2023-10-05T16:28:33.475646700Z",
     "start_time": "2023-10-05T16:28:33.459648500Z"
    }
   },
   "id": "b12775e57d927618"
  },
  {
   "cell_type": "markdown",
   "source": [
    "1. Переробити код з завдання №4 з використанням тернарного оператора."
   ],
   "metadata": {
    "collapsed": false
   },
   "id": "fbbe13a8395d6452"
  },
  {
   "cell_type": "code",
   "execution_count": 1,
   "outputs": [
    {
     "name": "stdout",
     "output_type": "stream",
     "text": [
      "Перше число:  3.3\n",
      "Друге число:  12.0\n",
      "Третє число:  5.0\n",
      "Найбільше число: 12.0\n"
     ]
    }
   ],
   "source": [
    "# Запит перших трьох чисел та вивід їх на екран\n",
    "num1 = float(input(\"Введіть перше число: \"))\n",
    "num2 = float(input(\"Введіть друге число: \"))\n",
    "num3 = float(input(\"Введіть третє число: \"))\n",
    "print(\"Перше число: \", num1)\n",
    "print(\"Друге число: \", num2)\n",
    "print(\"Третє число: \", num3)\n",
    "\n",
    "# Використання тернарного оператора для визначення найбільшого числа\n",
    "max_num = num1 if num1 > num2 and num1 > num3 else (num2 if num2 > num3 else num3)\n",
    "\n",
    "print(\"Найбільше число:\", max_num)"
   ],
   "metadata": {
    "collapsed": false,
    "ExecuteTime": {
     "end_time": "2023-10-09T09:15:55.958172600Z",
     "start_time": "2023-10-09T09:15:45.282931100Z"
    }
   },
   "id": "4050f5ea469d7b37"
  },
  {
   "cell_type": "markdown",
   "source": [
    "2. Напишіть код, який би розв'язував наступну систему рівнянь. Значення змінних повинен ввести користувач  \n",
    "    ### y = {x if k = 1, √x if k = 2, x^2 if k = 3 , 0 else "
   ],
   "metadata": {
    "collapsed": false
   },
   "id": "e56ca1dfdb99369f"
  },
  {
   "cell_type": "code",
   "execution_count": 14,
   "outputs": [
    {
     "name": "stdout",
     "output_type": "stream",
     "text": [
      "Введене значення: 9.0\n",
      "Введене значення: 2\n",
      "Значення y: 3.0\n"
     ]
    }
   ],
   "source": [
    "# Запит про значення x та k\n",
    "x = float(input(\"Введіть значення x: \"))\n",
    "k = int(input(\"Введіть значення k (1, 2 або 3): \"))\n",
    "print(\"Введене значення:\", x)\n",
    "print(\"Введене значення:\", k)\n",
    "\n",
    "# Визначення значення y на основі k\n",
    "if k == 1:\n",
    "    y = x\n",
    "elif k == 2:\n",
    "    if x >= 0:\n",
    "        y = x ** 0.5  # Квадратний корінь з x\n",
    "    else:\n",
    "        print(\"Для k = 2 x повинно бути не від'ємним.\")\n",
    "        y = None\n",
    "elif k == 3:\n",
    "    y = x ** 2\n",
    "else:\n",
    "    y = 0\n",
    "\n",
    "# Вивід результату\n",
    "if y is not None:\n",
    "    print(\"Значення y:\", y)\n",
    "else:\n",
    "    print(\"Розв'язок неможливий через невірне значення k або x.\")"
   ],
   "metadata": {
    "collapsed": false,
    "ExecuteTime": {
     "end_time": "2023-10-09T09:32:36.464009600Z",
     "start_time": "2023-10-09T09:32:33.544336900Z"
    }
   },
   "id": "1af14cae4cad274c"
  },
  {
   "cell_type": "markdown",
   "source": [
    "1. Напишіть функцію користувача, яка перевіряє, чи належить точка площини (з деякими координатами x, y) деякій прямокутній області"
   ],
   "metadata": {
    "collapsed": false
   },
   "id": "42ba621bb1780bd9"
  },
  {
   "cell_type": "code",
   "execution_count": 35,
   "outputs": [
    {
     "name": "stdout",
     "output_type": "stream",
     "text": [
      "Введене значення x: 2.0\n",
      "Введене значення y: 1.0\n",
      "Введене координату x1 верхнього лівого кута: -5.0\n",
      "Введене координату y1 верхнього лівого кута: 5.0\n",
      "Введене координату x2 верхнього лівого кута: 1.0\n",
      "Введене координату y2 верхнього лівого кута: 4.0\n",
      "Точка (2.0, 1.0) не належить прямокутній області.\n"
     ]
    }
   ],
   "source": [
    "def is_point_in_rectangle(x, y, x1, y1, x2, y2): # Перевіряє, чи належить точка (x, y) прямокутній області з верхнім лівим кутом (x1, y1) та нижнім правим кутом (x2, y2).\n",
    "    # Повертає True, якщо точка належить області, і False в протилежному випадку.\n",
    "    if x1 <= x <= x2 and y1 <= y <= y2:\n",
    "        return True\n",
    "    else:\n",
    "        return False\n",
    "\n",
    "# Введення координат точки\n",
    "x = float(input(\"Введіть координату x точки: \"))\n",
    "y = float(input(\"Введіть координату y точки: \"))\n",
    "print(\"Введене значення x:\", x)\n",
    "print(\"Введене значення y:\", y)\n",
    "\n",
    "# Введення координат верхнього лівого та нижнього правого кутів прямокутної області\n",
    "x1 = float(input(\"Введіть координату x1 верхнього лівого кута: \"))\n",
    "y1 = float(input(\"Введіть координату y1 верхнього лівого кута: \"))\n",
    "x2 = float(input(\"Введіть координату x2 нижнього правого кута: \"))\n",
    "y2 = float(input(\"Введіть координату y2 нижнього правого кута: \"))\n",
    "print(\"Введене координату x1 верхнього лівого кута:\", x1)\n",
    "print(\"Введене координату y1 верхнього лівого кута:\", y1)\n",
    "print(\"Введене координату x2 верхнього лівого кута:\", x2)\n",
    "print(\"Введене координату y2 верхнього лівого кута:\", y2)\n",
    "\n",
    "# Перевірка, чи точка належить прямокутній області\n",
    "if is_point_in_rectangle(x, y, x1, y1, x2, y2):\n",
    "    print(\"Точка ({}, {}) належить прямокутній області.\".format(x, y))\n",
    "else:\n",
    "    print(\"Точка ({}, {}) не належить прямокутній області.\".format(x, y))"
   ],
   "metadata": {
    "collapsed": false,
    "ExecuteTime": {
     "end_time": "2023-10-09T11:03:09.003828300Z",
     "start_time": "2023-10-09T11:02:32.931352300Z"
    }
   },
   "id": "6acfac22497fa360"
  },
  {
   "cell_type": "markdown",
   "source": [
    "2. Напиши функцію користувача для перевірки існування трикутника. Функція отримує в якості аргументів довжини сторін і повертає одне з двох значень 1 або 0 (1 означає, що трикутник існує, 0 - що не існує). Write a user function to calculate the area of a triangle using Heron's formula (S= √(p-x)(p-y)(p-z), де p=(x+y+z)/2; x, y, z довжини сторін трикутника).\n",
    "\n",
    "   Функція отримує довжини сторін як аргументи і повертає S, якщо трикутник існує, або 0 у протилежному випадку"
   ],
   "metadata": {
    "collapsed": false
   },
   "id": "9f894ebc5d954a1a"
  },
  {
   "cell_type": "code",
   "execution_count": 37,
   "outputs": [
    {
     "name": "stdout",
     "output_type": "stream",
     "text": [
      "Довжина x 5.0\n",
      "Довжина y 6.0\n",
      "Довжина z 5.0\n",
      "Трикутник існує.\n",
      "Площа трикутника: 12.00\n"
     ]
    }
   ],
   "source": [
    "import math\n",
    "\n",
    "def is_triangle_exists(x, y, z): # Перевіряє, чи існує трикутник зі сторонами x, y і z. Повертає 1, якщо трикутник існує, або 0, якщо не існує.\n",
    "    if x + y > z and y + z > x and x + z > y:\n",
    "        return 1\n",
    "    else:\n",
    "        return 0\n",
    "\n",
    "def calculate_triangle_area(x, y, z): # Обчислює площу трикутника за допомогою формули Герона. Повертає площу трикутника, якщо трикутник існує, або 0, якщо не існує.\n",
    "    if is_triangle_exists(x, y, z):\n",
    "        p = (x + y + z) / 2\n",
    "        area = math.sqrt(p * (p - x) * (p - y) * (p - z))\n",
    "        return area\n",
    "    else:\n",
    "        return 0\n",
    "\n",
    "# Введення довжин сторін трикутника\n",
    "x = float(input(\"Введіть довжину першої сторони (x): \"))\n",
    "y = float(input(\"Введіть довжину другої сторони (y): \"))\n",
    "z = float(input(\"Введіть довжину третьої сторони (z): \"))\n",
    "print(\"Довжина x\", x)\n",
    "print(\"Довжина y\", y)\n",
    "print(\"Довжина z\", z)\n",
    "\n",
    "# Перевірка існування трикутника та обчислення площі\n",
    "if is_triangle_exists(x, y, z):\n",
    "    area = calculate_triangle_area(x, y, z)\n",
    "    print(\"Трикутник існує.\")\n",
    "    print(\"Площа трикутника: {:.2f}\".format(area)) # {:.2f} окурглення десятичних значень\n",
    "else:\n",
    "    print(\"Трикутник не існує.\")"
   ],
   "metadata": {
    "collapsed": false,
    "ExecuteTime": {
     "end_time": "2023-10-09T11:11:06.759058Z",
     "start_time": "2023-10-09T11:10:51.958651600Z"
    }
   },
   "id": "cfcece31656970cf"
  },
  {
   "cell_type": "markdown",
   "source": [
    "3. Задано n (n >= 1) цілих чисел (a1, a2, … , an). Знайди найбільше число. (цикли)"
   ],
   "metadata": {
    "collapsed": false
   },
   "id": "b6649e57206ff5b5"
  },
  {
   "cell_type": "code",
   "execution_count": 25,
   "outputs": [
    {
     "name": "stdout",
     "output_type": "stream",
     "text": [
      "Введена кількість чисел: 5\n",
      "Введене перше число: -2\n",
      "Усі введені числа: [-2, -1, 1, 2, 3]\n",
      "Найбільше число серед введених: 3\n"
     ]
    }
   ],
   "source": [
    "# Запит про кількість чисел (n).\n",
    "n = int(input(\"Введіть кількість чисел:\"))\n",
    "print(\"Введена кількість чисел:\", n)\n",
    "numbers = [] # Створення пустого списку для зберігання чисел\n",
    "\n",
    "# Перший елемент є початковим найбільшим числом (max_num)\n",
    "max_num = int(input(\"Введіть перше число:\"))\n",
    "print(\"Введене перше число:\", max_num)\n",
    "numbers.append(max_num) # Додання першого числа дло списку\n",
    "\n",
    "# Пройти через решту чисел і знайти найбільше\n",
    "for i in range(2, n+1):\n",
    "    num = int(input(\"Введіть {}-е число\".format(i)))\n",
    "    numbers.append(num) # Додання числа до мого списку\n",
    "    if num > max_num:\n",
    "        max_num = num\n",
    "\n",
    "# Вивід найбільшого числа        \n",
    "print(\"Усі введені числа:\", numbers)\n",
    "print(\"Найбільше число серед введених:\", max_num)"
   ],
   "metadata": {
    "collapsed": false,
    "ExecuteTime": {
     "end_time": "2023-10-09T10:39:21.619591200Z",
     "start_time": "2023-10-09T10:38:59.708131600Z"
    }
   },
   "id": "36352328abd002ba"
  },
  {
   "cell_type": "markdown",
   "source": [
    "4. Задано n дійсних чисел (a1, a2, … , aₙ). Знайдіть середнє арифметичне цих чисел. (цикл)"
   ],
   "metadata": {
    "collapsed": false
   },
   "id": "df66d876a66f918d"
  },
  {
   "cell_type": "code",
   "execution_count": 34,
   "outputs": [
    {
     "name": "stdout",
     "output_type": "stream",
     "text": [
      "Введена кількість чисел: 5\n",
      "Усі введені числа: [-2.0, -1.0, 0.0, 3.0, 4.0]\n",
      "Середнє арифметичне введених чисел: 0.8\n"
     ]
    }
   ],
   "source": [
    "# Запит про кількість чисел (n)\n",
    "n = int(input(\"Введіть кількість чисел: \"))\n",
    "print(\"Введена кількість чисел:\", n)\n",
    "\n",
    "numbers = [] # Створення пустого списку для зберігання чисел\n",
    "sum_of_numbers = 0 # Ініціалізація змінної для суми чисел\n",
    "\n",
    "# Зчитування n чисел і додання їх до суми та списку\n",
    "for i in range(1, n + 1):\n",
    "    num = float(input(\"Введіть {}-е число: \".format(i)))\n",
    "    sum_of_numbers += num\n",
    "    numbers.append(num)\n",
    "\n",
    "# Знаходження середнього арифметичного чисел\n",
    "average = sum_of_numbers / n\n",
    "\n",
    "# Вивід результату\n",
    "print(\"Усі введені числа:\", numbers)\n",
    "print(\"Середнє арифметичне введених чисел:\", average)\n"
   ],
   "metadata": {
    "collapsed": false,
    "ExecuteTime": {
     "end_time": "2023-10-09T10:55:04.410015400Z",
     "start_time": "2023-10-09T10:54:55.268418900Z"
    }
   },
   "id": "4084957865116b1a"
  },
  {
   "cell_type": "markdown",
   "source": [
    "5. Написати функцію користувача, яка обчислює n! (n! = 1 * 2 * ... * n) для заданого n. Не використовуйте факторіальні функції з модулів Python."
   ],
   "metadata": {
    "collapsed": false
   },
   "id": "2f41eb7f0a69d972"
  },
  {
   "cell_type": "code",
   "execution_count": 1,
   "outputs": [
    {
     "name": "stdout",
     "output_type": "stream",
     "text": [
      "Введене ціле число 4\n",
      "4! = 24\n"
     ]
    }
   ],
   "source": [
    "def factorial(n): # Обчислює даний факторіал (тобто n (n! = 1 * 2 * ... * n)).\n",
    "    if n < 0:\n",
    "        return \"Факторіал визначений тільки для невід'ємних цілих чисел.\"\n",
    "    elif n == 0:\n",
    "        return 1\n",
    "    else:\n",
    "        result = 1\n",
    "        for i in range(1, n + 1):\n",
    "            result *= i\n",
    "        return result\n",
    "\n",
    "# Запит про число n\n",
    "n = int(input(\"Введіть ціле число n: \"))\n",
    "print(\"Введене ціле число\", n)\n",
    "fact = factorial(n) # Виклик функції для обчислення факторіала\n",
    "\n",
    "# Вивід результату\n",
    "print(f\"{n}! = {fact}\")\n"
   ],
   "metadata": {
    "collapsed": false,
    "ExecuteTime": {
     "end_time": "2023-10-11T08:51:48.414243900Z",
     "start_time": "2023-10-11T08:51:44.531448100Z"
    }
   },
   "id": "8c7d740c43ae16bf"
  },
  {
   "cell_type": "markdown",
   "source": [
    "6. Написати функцію користувача, яка обчислює 1+2!+3!+ …+ n! для заданого n. (цикли)"
   ],
   "metadata": {
    "collapsed": false
   },
   "id": "e0b8cc6ecd1fbf60"
  },
  {
   "cell_type": "code",
   "execution_count": 2,
   "outputs": [
    {
     "name": "stdout",
     "output_type": "stream",
     "text": [
      "Введене ціле число 5\n",
      "1 + 2! + 3! + ... + 5! = 153\n"
     ]
    }
   ],
   "source": [
    "def calculate_series(n): # Обчислює вираз 1 + 2! + 3! + ... + n! для заданого n.\n",
    "    result = 0\n",
    "    factorial = 1   \n",
    "    for i in range(1, n + 1):\n",
    "        factorial *= i\n",
    "        result += factorial    \n",
    "    return result\n",
    "\n",
    "# Запит про число n\n",
    "n = int(input(\"Введіть ціле число n: \"))\n",
    "print(\"Введене ціле число\", n)\n",
    "result = calculate_series(n) # Виклик функції для обчислення виразу\n",
    "\n",
    "# Вивід результату\n",
    "print(f\"1 + 2! + 3! + ... + {n}! = {result}\")"
   ],
   "metadata": {
    "collapsed": false,
    "ExecuteTime": {
     "end_time": "2023-10-11T08:58:47.552413800Z",
     "start_time": "2023-10-11T08:58:43.109193500Z"
    }
   },
   "id": "e10d7fbc42492074"
  },
  {
   "cell_type": "markdown",
   "source": [
    "7. Знайти y за функцією y = x^3+x^2+x-1, де x=beg; beg+step;…; end, і виведіть кожне значення на екран. Підказка: перевірте всі можливості циклу for-loop. (цикли)"
   ],
   "metadata": {
    "collapsed": false
   },
   "id": "9c908629e408631f"
  },
  {
   "cell_type": "code",
   "execution_count": 7,
   "outputs": [
    {
     "name": "stdout",
     "output_type": "stream",
     "text": [
      "Початкове значення x: 2\n",
      "Кінцеве значення x: 8\n",
      "Крок: 2\n",
      "При x = 2, y = 13\n",
      "При x = 4, y = 83\n",
      "При x = 6, y = 257\n",
      "При x = 8, y = 583\n"
     ]
    }
   ],
   "source": [
    "# Введення початкового, кінцевого значення та кроку\n",
    "beg = int(input(\"Введіть початкове значення x: \"))\n",
    "end = int(input(\"Введіть кінцеве значення x: \"))\n",
    "step = int(input(\"Введіть крок: \"))\n",
    "print(\"Початкове значення x:\", beg)\n",
    "print(\"Кінцеве значення x:\", end)\n",
    "print(\"Крок:\", step)\n",
    "\n",
    "# Ітерування через значення x та обчислення відповідних значень y\n",
    "for x in range(beg, end + 1, step):\n",
    "    y = x ** 3 + x ** 2 + x - 1\n",
    "    print(f\"При x = {x}, y = {y}\")"
   ],
   "metadata": {
    "collapsed": false,
    "ExecuteTime": {
     "end_time": "2023-10-11T09:15:34.029267400Z",
     "start_time": "2023-10-11T09:15:24.563051900Z"
    }
   },
   "id": "5b788b2645cc4876"
  },
  {
   "cell_type": "markdown",
   "source": [
    "8. З'ясувати значення чисел Фібоначчі. Створіть функцію користувача, яка повертає n-не число Фібоначчі. (наприклад, якщо n = 6, то число Фібоначчі дорівнює 8) (цикли)"
   ],
   "metadata": {
    "collapsed": false
   },
   "id": "1103a8f8f73807a0"
  },
  {
   "cell_type": "code",
   "execution_count": 11,
   "outputs": [
    {
     "name": "stdout",
     "output_type": "stream",
     "text": [
      "Введене ціле число: 5\n",
      "5-те число Фібоначчі: 3\n"
     ]
    }
   ],
   "source": [
    "def fibonacci(n): # Обчислює n-те число Фібоначчі.\n",
    "    if n <= 0:\n",
    "        return \"n має бути додатнім цілим числом.\"\n",
    "    elif n == 1:\n",
    "        return 0\n",
    "    elif n == 2:\n",
    "        return 1\n",
    "    else:\n",
    "        a, b = 0, 1\n",
    "        for _ in range(3, n + 1):\n",
    "            a, b = b, a + b\n",
    "        return b\n",
    "\n",
    "# Запит про число n\n",
    "n = int(input(\"Введіть ціле число n: \"))\n",
    "print(\"Введене ціле число:\", n)\n",
    "result = fibonacci(n) # Виклик функції для обчислення n-го числа Фібоначчі\n",
    "\n",
    "# Вивід результату\n",
    "print(f\"{n}-те число Фібоначчі: {result}\")\n"
   ],
   "metadata": {
    "collapsed": false,
    "ExecuteTime": {
     "end_time": "2023-10-11T09:21:19.371082200Z",
     "start_time": "2023-10-11T09:21:16.806429600Z"
    }
   },
   "id": "847decbffc050a9"
  },
  {
   "cell_type": "markdown",
   "source": [
    "9. Знайти найменше натуральне число x, для якого x^3-40x-1>0. (цикли)"
   ],
   "metadata": {
    "collapsed": false
   },
   "id": "ddf01e9202afe502"
  },
  {
   "cell_type": "code",
   "execution_count": 21,
   "outputs": [
    {
     "name": "stdout",
     "output_type": "stream",
     "text": [
      "Найменше натуральне число x: 7\n"
     ]
    }
   ],
   "source": [
    "# Наше найменше натуральне число\n",
    "x = 1\n",
    "\n",
    "# Перевірка нашої умови x^3 - 40x - 1 > 0 \n",
    "while x ** 3 - 40 * x - 1 <= 0:\n",
    "    x += 1\n",
    "\n",
    "print(\"Найменше натуральне число x:\", x)"
   ],
   "metadata": {
    "collapsed": false,
    "ExecuteTime": {
     "end_time": "2023-10-11T09:36:05.026051600Z",
     "start_time": "2023-10-11T09:36:05.009002900Z"
    }
   },
   "id": "7c3ec1e52445b5dc"
  },
  {
   "cell_type": "markdown",
   "source": [
    "10. Створіть функцію користувача для обчислення найбільшого числа послідовності. Послідовність повинна бути введена користувачем. Не використовуйте функцію max. (цикли"
   ],
   "metadata": {
    "collapsed": false
   },
   "id": "354479fd17218c7c"
  },
  {
   "cell_type": "code",
   "execution_count": 22,
   "outputs": [
    {
     "name": "stdout",
     "output_type": "stream",
     "text": [
      "Введенна послідовність чисел 2 3 4 5 6\n",
      "Найбільше число у послідовності: 6.0\n"
     ]
    }
   ],
   "source": [
    "def find_max_in_sequence():\n",
    "    sequence = input(\"Введіть послідовність чисел, розділених пробілами: \") # Запит про введення послідовності чисел\n",
    "    print(\"Введенна послідовність чисел\", sequence)\n",
    "    numbers = [float(num) for num in sequence.split()] # Розділення введеної послідовності на числа\n",
    "    \n",
    "    # Перевірка, чи послідовність не пуста\n",
    "    if not numbers:\n",
    "        return \"Послідовність порожня.\"\n",
    "    max_number = numbers[0] # Ініціалізація змінної для найбільшого числа\n",
    "    \n",
    "    # Пошук найбільшого числа\n",
    "    for num in numbers:\n",
    "        if num > max_number:\n",
    "            max_number = num\n",
    "    return max_number\n",
    "\n",
    "result = find_max_in_sequence() # Виклик функції для обчислення найбільшого числа у послідовності\n",
    "\n",
    "# Виведення результату\n",
    "print(\"Найбільше число у послідовності:\", result)"
   ],
   "metadata": {
    "collapsed": false,
    "ExecuteTime": {
     "end_time": "2023-10-11T10:08:57.990042200Z",
     "start_time": "2023-10-11T10:08:46.530299900Z"
    }
   },
   "id": "3727732a6459e42e"
  },
  {
   "cell_type": "markdown",
   "source": [
    "11. Напишіть функцію користувача , яка обчислює добуток для заданого n.\n",
    "    (1/1+1^0)*(1/1+2^1)* ... *(1/1+n^(n-1) = prod i=1 to n (1/1+j^(j-1))"
   ],
   "metadata": {
    "collapsed": false
   },
   "id": "c6c6717a9c178f67"
  },
  {
   "cell_type": "code",
   "execution_count": 27,
   "outputs": [
    {
     "name": "stdout",
     "output_type": "stream",
     "text": [
      "Введене ціле число n: 10\n",
      "Добуток за формулою для n: 4.958916861722303e-39\n"
     ]
    }
   ],
   "source": [
    "def calculate_prod(n): # Обчислює добуток за заданою формулою для n.\n",
    "    prod = 1 # зміна prod починається зі значення 1 і ми множимо на кожен доданок, тобто \"term\"\n",
    "    for j in range(1, n + 1):\n",
    "        term = 1 / (1 + j ** (j - 1)) \n",
    "        prod *= term\n",
    "    return prod\n",
    "\n",
    "# Запит користувача про значення n\n",
    "n = int(input(\"Введіть ціле число n: \"))\n",
    "print(\"Введене ціле число n:\", n)\n",
    "result = calculate_prod(n) # Виклик функції для обчислення добутку\n",
    "\n",
    "# Виведення результату\n",
    "print(\"Добуток за формулою для n:\", result)"
   ],
   "metadata": {
    "collapsed": false,
    "ExecuteTime": {
     "end_time": "2023-10-11T10:37:24.837666200Z",
     "start_time": "2023-10-11T10:37:23.264484500Z"
    }
   },
   "id": "740033e4cec081b6"
  },
  {
   "cell_type": "code",
   "execution_count": null,
   "outputs": [],
   "source": [],
   "metadata": {
    "collapsed": false
   },
   "id": "f9a3195875e1d92e"
  }
 ],
 "metadata": {
  "kernelspec": {
   "display_name": "Python 3",
   "language": "python",
   "name": "python3"
  },
  "language_info": {
   "codemirror_mode": {
    "name": "ipython",
    "version": 2
   },
   "file_extension": ".py",
   "mimetype": "text/x-python",
   "name": "python",
   "nbconvert_exporter": "python",
   "pygments_lexer": "ipython2",
   "version": "2.7.6"
  }
 },
 "nbformat": 4,
 "nbformat_minor": 5
}
